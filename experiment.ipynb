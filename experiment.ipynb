{
 "cells": [
  {
   "cell_type": "markdown",
   "id": "5bad72f7",
   "metadata": {},
   "source": [
    "### Import Modules"
   ]
  },
  {
   "cell_type": "code",
   "execution_count": 1,
   "id": "315385da",
   "metadata": {},
   "outputs": [],
   "source": [
    "from tabu_search import tabu_search\n",
    "from integer_formulation import integer_formulation\n",
    "from synergy_problem import read_instances"
   ]
  },
  {
   "cell_type": "markdown",
   "id": "774c6b9c",
   "metadata": {},
   "source": [
    "### Read Data"
   ]
  },
  {
   "cell_type": "code",
   "execution_count": null,
   "id": "a9598d11",
   "metadata": {},
   "outputs": [],
   "source": [
    "instance_filename = '01'\n",
    "problem_instance = read_instances(f\"instances/{instance_filename}.txt\")"
   ]
  },
  {
   "cell_type": "markdown",
   "id": "8e91e7a8",
   "metadata": {},
   "source": [
    "### Solve\n",
    "\n",
    "Solve the problem with tabu search."
   ]
  },
  {
   "cell_type": "code",
   "execution_count": null,
   "id": "ec68fa4f",
   "metadata": {},
   "outputs": [],
   "source": [
    "solver_name = 'tabu_search'\n",
    "solution = tabu_search(\n",
    "    problem_instance,\n",
    "    max_iter = 1000, \n",
    "    tabu_tenure = 10\n",
    "    )"
   ]
  },
  {
   "cell_type": "markdown",
   "id": "9879af59",
   "metadata": {},
   "source": [
    "Solve with integer formulation."
   ]
  },
  {
   "cell_type": "code",
   "execution_count": null,
   "id": "6b2cdbda",
   "metadata": {},
   "outputs": [],
   "source": [
    "solver_name = 'integer_formulation'\n",
    "solution = integer_formulation(\n",
    "    problem_instance, \n",
    "    seed=10,\n",
    "    max_time=30\n",
    "    )"
   ]
  },
  {
   "cell_type": "markdown",
   "id": "f74a1c2d",
   "metadata": {},
   "source": [
    "### Results\n",
    "Show the solution data here."
   ]
  },
  {
   "cell_type": "code",
   "execution_count": null,
   "id": "b7132a2b",
   "metadata": {},
   "outputs": [
    {
     "name": "stdout",
     "output_type": "stream",
     "text": [
      "total_power=39.0, time_elapsed=30.79,\n",
      " selected=[4, 18, 31, 38, 74, 107, 108, 111, 114, 119, 123]\n"
     ]
    }
   ],
   "source": [
    "print(solution)"
   ]
  },
  {
   "cell_type": "markdown",
   "id": "de4d407b",
   "metadata": {},
   "source": [
    "Save the data in the end of a file."
   ]
  },
  {
   "cell_type": "code",
   "execution_count": null,
   "id": "93438f5b",
   "metadata": {},
   "outputs": [],
   "source": [
    "print(f\"Solved instance {instance_filename} using {solver_name} \\n\\\n",
    "{solution}\\n\\\n",
    "{'-'*150}\\n\", \n",
    "file=open(f\"results/mixed.txt\", \"a\")\n",
    ")"
   ]
  }
 ],
 "metadata": {
  "kernelspec": {
   "display_name": "Python 3",
   "language": "python",
   "name": "python3"
  },
  "language_info": {
   "codemirror_mode": {
    "name": "ipython",
    "version": 3
   },
   "file_extension": ".py",
   "mimetype": "text/x-python",
   "name": "python",
   "nbconvert_exporter": "python",
   "pygments_lexer": "ipython3",
   "version": "3.13.3"
  }
 },
 "nbformat": 4,
 "nbformat_minor": 5
}
